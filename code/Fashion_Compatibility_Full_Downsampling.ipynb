{
 "cells": [
  {
   "cell_type": "code",
   "execution_count": null,
   "id": "8a9354d2",
   "metadata": {},
   "outputs": [],
   "source": [
    "import os\n",
    "import random\n",
    "import itertools\n",
    "from PIL import Image\n",
    "from torchvision import transforms, models\n",
    "import torch\n",
    "import torch.nn as nn\n",
    "import torch.optim as optim\n",
    "from torch.utils.data import DataLoader, Dataset\n"
   ]
  },
  {
   "cell_type": "code",
   "execution_count": null,
   "id": "385209cb",
   "metadata": {},
   "outputs": [],
   "source": [
    "\n",
    "# Paths from the original notebook\n",
    "base_dir = 'C:/Users/ARA/Desktop/ara330/media/image_data'\n",
    "processed_dir = 'C:/Users/ARA/Desktop/ara330/media/processed_image_data(updated)'\n"
   ]
  },
  {
   "cell_type": "code",
   "execution_count": null,
   "id": "70f2233c",
   "metadata": {},
   "outputs": [],
   "source": [
    "\n",
    "# Create the processed image directory structure\n",
    "def create_dir_structure(base_dir, processed_dir):\n",
    "    for root, dirs, files in os.walk(base_dir):\n",
    "        for dir_name in dirs:\n",
    "            dir_path = os.path.join(processed_dir, os.path.relpath(os.path.join(root, dir_name), base_dir))\n",
    "            os.makedirs(dir_path, exist_ok=True)\n",
    "\n",
    "create_dir_structure(base_dir, processed_dir)\n"
   ]
  },
  {
   "cell_type": "code",
   "execution_count": null,
   "id": "edfeaf9b",
   "metadata": {},
   "outputs": [],
   "source": [
    "# Image preprocessing transformations\n",
    "transform = transforms.Compose([\n",
    "    transforms.Resize((224, 224)),\n",
    "    transforms.ToTensor(),\n",
    "    transforms.Normalize(mean=[0.485, 0.456, 0.406], std=[0.229, 0.224, 0.225]),\n",
    "])\n"
   ]
  },
  {
   "cell_type": "code",
   "execution_count": null,
   "id": "1156682d",
   "metadata": {},
   "outputs": [],
   "source": [
    "# Function to denormalize the image before saving (for visualization)\n",
    "def denormalize(tensor, mean, std):\n",
    "    for t, m, s in zip(tensor, mean, std):\n",
    "        t.mul_(s).add_(m)  # Reverse the normalization\n",
    "    return tensor"
   ]
  },
  {
   "cell_type": "code",
   "execution_count": null,
   "id": "a8b85f70",
   "metadata": {},
   "outputs": [],
   "source": [
    "\n",
    "# Function to load, preprocess, and save images\n",
    "def load_preprocess_and_save_image(image_path, save_path):\n",
    "    image = Image.open(image_path).convert('RGB')\n",
    "    tensor = transform(image)\n",
    "    denorm_tensor = denormalize(tensor.clone(), mean=[0.485, 0.456, 0.406], std=[0.229, 0.224, 0.225])\n",
    "    denorm_image = transforms.ToPILImage()(denorm_tensor)\n",
    "    denorm_image.save(save_path)\n",
    "\n",
    "# Process and save images\n",
    "def process_images(base_dir, processed_dir):\n",
    "    for root, dirs, files in os.walk(base_dir):\n",
    "        for file in files:\n",
    "            if file.endswith(('jpg', 'jpeg', 'png')):\n",
    "                image_path = os.path.join(root, file)\n",
    "                save_path = os.path.join(processed_dir, os.path.relpath(image_path, base_dir))\n",
    "                load_preprocess_and_save_image(image_path, save_path)\n",
    "\n",
    "process_images(base_dir, processed_dir)\n"
   ]
  },
  {
   "cell_type": "code",
   "execution_count": null,
   "id": "e8999419",
   "metadata": {},
   "outputs": [],
   "source": [
    "# Function to load images from directory\n",
    "def load_images_from_dir(directory):\n",
    "    images = []\n",
    "    for root, dirs, files in os.walk(directory):\n",
    "        for file in files:\n",
    "            if file.endswith(('jpg', 'jpeg', 'png')):\n",
    "                images.append(os.path.join(root, file))\n",
    "    return images"
   ]
  },
  {
   "cell_type": "code",
   "execution_count": null,
   "id": "898280ea",
   "metadata": {},
   "outputs": [],
   "source": [
    "\n",
    "# Function to create and downsample pairs within two categories\n",
    "def create_and_downsample_pairs(category1, category2, target_size):\n",
    "    pairs = list(itertools.product(category1, category2))\n",
    "    if len(pairs) > target_size:\n",
    "        pairs = random.sample(pairs, target_size)\n",
    "    return pairs\n"
   ]
  },
  {
   "cell_type": "code",
   "execution_count": null,
   "id": "8e514715",
   "metadata": {},
   "outputs": [],
   "source": [
    "# Load and downsample pairs\n",
    "# Male Informal\n",
    "male_informal_tops = load_images_from_dir(os.path.join(processed_dir, 'male/informal/tops'))\n",
    "male_informal_bottoms = load_images_from_dir(os.path.join(processed_dir, 'male/informal/bottoms'))\n",
    "male_informal_pairs = create_and_downsample_pairs(male_informal_tops, male_informal_bottoms, target_size=191*243)\n",
    "\n",
    "# Male Formal\n",
    "male_formal_tops = load_images_from_dir(os.path.join(processed_dir, 'male/formal/tops'))\n",
    "male_formal_bottoms = load_images_from_dir(os.path.join(processed_dir, 'male/formal/bottoms'))\n",
    "male_formal_pairs = create_and_downsample_pairs(male_formal_tops, male_formal_bottoms, target_size=207*207)\n",
    "\n",
    "# Female Formal\n",
    "female_formal_tops = load_images_from_dir(os.path.join(processed_dir, 'female/formal/tops'))\n",
    "female_formal_bottoms = load_images_from_dir(os.path.join(processed_dir, 'female/formal/bottoms'))\n",
    "female_formal_pairs = create_and_downsample_pairs(female_formal_tops, female_formal_bottoms, target_size=35*41)\n",
    "\n",
    "# Female Informal\n",
    "female_informal_tops = load_images_from_dir(os.path.join(processed_dir, 'female/informal/tops'))\n",
    "female_informal_bottoms = load_images_from_dir(os.path.join(processed_dir, 'female/informal/bottoms'))\n",
    "female_informal_pairs = create_and_downsample_pairs(female_informal_tops, female_informal_bottoms, target_size=1451*1451)\n",
    "\n",
    "# Combine all pairs\n",
    "all_pairs = male_informal_pairs + male_formal_pairs + female_formal_pairs + female_informal_pairs\n",
    "\n",
    "# Print the number of pairs created after downsampling\n",
    "print(f\"Number of pairs created for male informal: {len(male_informal_pairs)}\")\n",
    "print(f\"Number of pairs created for male formal: {len(male_formal_pairs)}\")\n",
    "print(f\"Number of pairs created for female formal: {len(female_formal_pairs)}\")\n",
    "print(f\"Number of pairs created for female informal: {len(female_informal_pairs)}\")\n",
    "\n"
   ]
  },
  {
   "cell_type": "code",
   "execution_count": null,
   "id": "e6f81927",
   "metadata": {},
   "outputs": [],
   "source": [
    "# Custom dataset class for pairs\n",
    "class FashionPairDataset(Dataset):\n",
    "    def __init__(self, pairs, transform=None):\n",
    "        self.pairs = pairs\n",
    "        self.transform = transform\n",
    "    \n",
    "    def __len__(self):\n",
    "        return len(self.pairs)\n",
    "    \n",
    "    def __getitem__(self, idx):\n",
    "        top_image_path, bottom_image_path = self.pairs[idx]\n",
    "        top_image = Image.open(top_image_path).convert('RGB')\n",
    "        bottom_image = Image.open(bottom_image_path).convert('RGB')\n",
    "        \n",
    "        if self.transform:\n",
    "            top_image = self.transform(top_image)\n",
    "            bottom_image = self.transform(bottom_image)\n",
    "        \n",
    "        return top_image, bottom_image\n"
   ]
  },
  {
   "cell_type": "code",
   "execution_count": null,
   "id": "9a73bacc",
   "metadata": {},
   "outputs": [],
   "source": [
    "# Create datasets and data loaders\n",
    "train_dataset = FashionPairDataset(all_pairs, transform=transform)\n",
    "train_loader = DataLoader(train_dataset, batch_size=16, shuffle=True)  # Use smaller batch size to reduce memory usage\n"
   ]
  },
  {
   "cell_type": "code",
   "execution_count": null,
   "id": "bbea29a8",
   "metadata": {},
   "outputs": [],
   "source": [
    "# Model setup\n",
    "# Define the feature extractor\n",
    "feature_extractor = models.resnet50(pretrained=True)\n",
    "for param in feature_extractor.parameters():\n",
    "    param.requires_grad = False  # Freeze feature extractor\n",
    "feature_extractor = nn.Sequential(*list(feature_extractor.children())[:-1])  # Remove the final FC layer\n",
    "\n",
    "# Define the classifier\n",
    "classifier = nn.Linear(2048 * 2, 1)  # 2048 is the output size of resnet50's penultimate layer\n",
    "\n",
    "# Move models to GPU if available\n",
    "device = torch.device(\"cuda\" if torch.cuda.is_available() else \"cpu\")\n",
    "feature_extractor.to(device)\n",
    "classifier.to(device)\n"
   ]
  },
  {
   "cell_type": "code",
   "execution_count": null,
   "id": "6b39b240",
   "metadata": {},
   "outputs": [],
   "source": [
    "\n",
    "# Loss and optimizer\n",
    "criterion = nn.BCEWithLogitsLoss()\n",
    "optimizer = optim.Adam(model.fc.parameters(), lr=0.0005)  # Lower learning rate for fine-tuning\n"
   ]
  },
  {
   "cell_type": "code",
   "execution_count": null,
   "id": "0ab7e59f",
   "metadata": {},
   "outputs": [],
   "source": [
    "\n",
    "# Training loop\n",
    "num_epochs = 5  # Fewer epochs to reduce runtime\n",
    "for epoch in range(num_epochs):\n",
    "    feature_extractor.eval()  # Set feature extractor to evaluation mode\n",
    "    classifier.train()       # Set classifier to training mode\n",
    "    running_loss = 0.0\n",
    "    for i, (top_images, bottom_images) in enumerate(train_loader):\n",
    "        top_images = top_images.to(device)\n",
    "        bottom_images = bottom_images.to(device)\n",
    "        \n",
    "        # Extract features\n",
    "        with torch.no_grad():\n",
    "            top_features = feature_extractor(top_images)\n",
    "            top_features = top_features.view(top_features.size(0), -1)  # Flatten\n",
    "            bottom_features = feature_extractor(bottom_images)\n",
    "            bottom_features = bottom_features.view(bottom_features.size(0), -1)  # Flatten\n",
    "        \n",
    "        # Combine features\n",
    "        combined_features = torch.cat((top_features, bottom_features), dim=1)  # Concatenate features\n",
    "        \n",
    "        # Pass through classifier\n",
    "        outputs = classifier(combined_features)\n",
    "        \n",
    "        # Dummy labels for now (replace with actual labels if available)\n",
    "        labels = torch.ones(outputs.size(0), 1).to(device)  # Example: all ones\n",
    "        \n",
    "        # Compute loss\n",
    "        loss = criterion(outputs, labels)\n",
    "        \n",
    "        # Backpropagation and optimization\n",
    "        optimizer.zero_grad()\n",
    "        loss.backward()\n",
    "        optimizer.step()\n",
    "        \n",
    "        running_loss += loss.item()\n",
    "    \n",
    "    average_loss = running_loss / len(train_loader)\n",
    "    print(f\"Epoch {epoch+1}/{num_epochs}, Loss: {average_loss:.4f}\")\n",
    "\n",
    "print(\"Training complete.\")"
   ]
  },
  {
   "cell_type": "code",
   "execution_count": null,
   "id": "a1dc670f",
   "metadata": {},
   "outputs": [],
   "source": [
    "def extract_features(model, image_paths, device):\n",
    "    model.eval()  # Set the model to evaluation mode\n",
    "    features = []\n",
    "    \n",
    "    with torch.no_grad():\n",
    "        for image_path in image_paths:\n",
    "            image = Image.open(image_path).convert('RGB')\n",
    "            image = image_transforms(image).unsqueeze(0).to(device)\n",
    "            feature = model.resnet(image).squeeze().cpu().numpy()\n",
    "            features.append((image_path, feature))\n",
    "    \n",
    "    return features\n"
   ]
  },
  {
   "cell_type": "code",
   "execution_count": null,
   "id": "3a4c2d1c",
   "metadata": {},
   "outputs": [],
   "source": [
    "from sklearn.metrics.pairwise import cosine_similarity\n",
    "\n",
    "def recommend_items(selected_item_feature, all_items_features, top_n=5):\n",
    "    similarities = []\n",
    "    \n",
    "    for image_path, feature in all_items_features:\n",
    "        sim = cosine_similarity([selected_item_feature], [feature])[0][0]\n",
    "        similarities.append((image_path, sim))\n",
    "    \n",
    "    # Sort items by similarity score in descending order\n",
    "    similarities.sort(key=lambda x: x[1], reverse=True)\n",
    "    \n",
    "    return similarities[:top_n]\n"
   ]
  },
  {
   "cell_type": "code",
   "execution_count": null,
   "id": "1592f112",
   "metadata": {},
   "outputs": [],
   "source": [
    "def recommend_bottoms_for_top(model, top_image_path, bottoms_features, device, top_n=5):\n",
    "    # Extract feature for the selected top\n",
    "    top_image = Image.open(top_image_path).convert('RGB')\n",
    "    top_image = image_transforms(top_image).unsqueeze(0).to(device)\n",
    "    \n",
    "    with torch.no_grad():\n",
    "        top_feature = model.resnet(top_image).squeeze().cpu().numpy()\n",
    "    \n",
    "    # Recommend bottoms based on similarity\n",
    "    recommended_bottoms = recommend_items(top_feature, bottoms_features, top_n)\n",
    "    \n",
    "    return recommended_bottoms\n"
   ]
  },
  {
   "cell_type": "code",
   "execution_count": null,
   "id": "8079f4ca",
   "metadata": {},
   "outputs": [],
   "source": [
    "# Extract features for all tops and bottoms\n",
    "top_features = extract_features(model, all_top_image_paths, device)\n",
    "bottom_features = extract_features(model, all_bottom_image_paths, device)\n",
    "\n",
    "# Select a top and get recommendations for bottoms\n",
    "selected_top = 'C:/Users/ARA/Desktop/ara330/media/processed_image_data(updated)/female/formal/tops/18763.png'\n",
    "recommended_bottoms = recommend_bottoms_for_top(model, selected_top, bottom_features, device, top_n=5)\n",
    "\n",
    "# Display recommended bottoms\n",
    "for bottom_path, similarity in recommended_bottoms:\n",
    "    print(f\"Recommended Bottom: {bottom_path}, Similarity: {similarity:.4f}\")\n"
   ]
  },
  {
   "cell_type": "code",
   "execution_count": null,
   "id": "fabd1453",
   "metadata": {},
   "outputs": [],
   "source": []
  }
 ],
 "metadata": {
  "kernelspec": {
   "display_name": "Python 3",
   "language": "python",
   "name": "python3"
  },
  "language_info": {
   "codemirror_mode": {
    "name": "ipython",
    "version": 3
   },
   "file_extension": ".py",
   "mimetype": "text/x-python",
   "name": "python",
   "nbconvert_exporter": "python",
   "pygments_lexer": "ipython3",
   "version": "3.12.5"
  }
 },
 "nbformat": 4,
 "nbformat_minor": 5
}
